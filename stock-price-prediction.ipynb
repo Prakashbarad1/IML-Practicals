{
 "cells": [
  {
   "cell_type": "markdown",
   "id": "7a29cb38",
   "metadata": {
    "papermill": {
     "duration": 0.00535,
     "end_time": "2023-11-06T05:34:23.198174",
     "exception": false,
     "start_time": "2023-11-06T05:34:23.192824",
     "status": "completed"
    },
    "tags": []
   },
   "source": [
    "# STOCK PRICE PREDICTION \n",
    "\n",
    "# GROUP MEMBERS:\n",
    "\n",
    "# BARAD PRAKASH => 216270307040\n",
    "# KARAVADRA PRADIP => 196270307027"
   ]
  },
  {
   "cell_type": "code",
   "execution_count": 1,
   "id": "777c9cae",
   "metadata": {
    "execution": {
     "iopub.execute_input": "2023-11-06T05:34:23.212235Z",
     "iopub.status.busy": "2023-11-06T05:34:23.211504Z",
     "iopub.status.idle": "2023-11-06T05:34:23.631070Z",
     "shell.execute_reply": "2023-11-06T05:34:23.630182Z"
    },
    "papermill": {
     "duration": 0.428418,
     "end_time": "2023-11-06T05:34:23.633563",
     "exception": false,
     "start_time": "2023-11-06T05:34:23.205145",
     "status": "completed"
    },
    "tags": []
   },
   "outputs": [],
   "source": [
    "#Import libraries\n",
    "import os\n",
    "import numpy as np\n",
    "import pandas as pd\n",
    "import matplotlib.pyplot as plt\n",
    "%matplotlib inline"
   ]
  },
  {
   "cell_type": "code",
   "execution_count": 2,
   "id": "895f4c43",
   "metadata": {
    "execution": {
     "iopub.execute_input": "2023-11-06T05:34:23.645881Z",
     "iopub.status.busy": "2023-11-06T05:34:23.645170Z",
     "iopub.status.idle": "2023-11-06T05:34:23.694298Z",
     "shell.execute_reply": "2023-11-06T05:34:23.693394Z"
    },
    "papermill": {
     "duration": 0.058201,
     "end_time": "2023-11-06T05:34:23.696889",
     "exception": false,
     "start_time": "2023-11-06T05:34:23.638688",
     "status": "completed"
    },
    "tags": []
   },
   "outputs": [
    {
     "data": {
      "text/html": [
       "<div>\n",
       "<style scoped>\n",
       "    .dataframe tbody tr th:only-of-type {\n",
       "        vertical-align: middle;\n",
       "    }\n",
       "\n",
       "    .dataframe tbody tr th {\n",
       "        vertical-align: top;\n",
       "    }\n",
       "\n",
       "    .dataframe thead th {\n",
       "        text-align: right;\n",
       "    }\n",
       "</style>\n",
       "<table border=\"1\" class=\"dataframe\">\n",
       "  <thead>\n",
       "    <tr style=\"text-align: right;\">\n",
       "      <th></th>\n",
       "      <th>Date</th>\n",
       "      <th>Open</th>\n",
       "      <th>High</th>\n",
       "      <th>Low</th>\n",
       "      <th>Close</th>\n",
       "      <th>Volume</th>\n",
       "    </tr>\n",
       "  </thead>\n",
       "  <tbody>\n",
       "    <tr>\n",
       "      <th>0</th>\n",
       "      <td>1/3/2012</td>\n",
       "      <td>325.25</td>\n",
       "      <td>332.83</td>\n",
       "      <td>324.97</td>\n",
       "      <td>663.59</td>\n",
       "      <td>7,380,500</td>\n",
       "    </tr>\n",
       "    <tr>\n",
       "      <th>1</th>\n",
       "      <td>1/4/2012</td>\n",
       "      <td>331.27</td>\n",
       "      <td>333.87</td>\n",
       "      <td>329.08</td>\n",
       "      <td>666.45</td>\n",
       "      <td>5,749,400</td>\n",
       "    </tr>\n",
       "    <tr>\n",
       "      <th>2</th>\n",
       "      <td>1/5/2012</td>\n",
       "      <td>329.83</td>\n",
       "      <td>330.75</td>\n",
       "      <td>326.89</td>\n",
       "      <td>657.21</td>\n",
       "      <td>6,590,300</td>\n",
       "    </tr>\n",
       "    <tr>\n",
       "      <th>3</th>\n",
       "      <td>1/6/2012</td>\n",
       "      <td>328.34</td>\n",
       "      <td>328.77</td>\n",
       "      <td>323.68</td>\n",
       "      <td>648.24</td>\n",
       "      <td>5,405,900</td>\n",
       "    </tr>\n",
       "    <tr>\n",
       "      <th>4</th>\n",
       "      <td>1/9/2012</td>\n",
       "      <td>322.04</td>\n",
       "      <td>322.29</td>\n",
       "      <td>309.46</td>\n",
       "      <td>620.76</td>\n",
       "      <td>11,688,800</td>\n",
       "    </tr>\n",
       "  </tbody>\n",
       "</table>\n",
       "</div>"
      ],
      "text/plain": [
       "       Date    Open    High     Low   Close      Volume\n",
       "0  1/3/2012  325.25  332.83  324.97  663.59   7,380,500\n",
       "1  1/4/2012  331.27  333.87  329.08  666.45   5,749,400\n",
       "2  1/5/2012  329.83  330.75  326.89  657.21   6,590,300\n",
       "3  1/6/2012  328.34  328.77  323.68  648.24   5,405,900\n",
       "4  1/9/2012  322.04  322.29  309.46  620.76  11,688,800"
      ]
     },
     "execution_count": 2,
     "metadata": {},
     "output_type": "execute_result"
    }
   ],
   "source": [
    "dataset_train = pd.read_csv(\"/kaggle/input/google-stock-prices-training-and-test-data/Google_Stock_Price_Train.csv\")\n",
    "dataset_train.head()"
   ]
  },
  {
   "cell_type": "code",
   "execution_count": 3,
   "id": "b092fa2a",
   "metadata": {
    "execution": {
     "iopub.execute_input": "2023-11-06T05:34:23.710962Z",
     "iopub.status.busy": "2023-11-06T05:34:23.708780Z",
     "iopub.status.idle": "2023-11-06T05:34:23.719867Z",
     "shell.execute_reply": "2023-11-06T05:34:23.719076Z"
    },
    "papermill": {
     "duration": 0.020102,
     "end_time": "2023-11-06T05:34:23.722351",
     "exception": false,
     "start_time": "2023-11-06T05:34:23.702249",
     "status": "completed"
    },
    "tags": []
   },
   "outputs": [
    {
     "name": "stdout",
     "output_type": "stream",
     "text": [
      "[[325.25]\n",
      " [331.27]\n",
      " [329.83]\n",
      " ...\n",
      " [793.7 ]\n",
      " [783.33]\n",
      " [782.75]]\n",
      "(1258, 1)\n"
     ]
    }
   ],
   "source": [
    "training_set = dataset_train.iloc[:,1:2].values\n",
    "print(training_set)\n",
    "print(training_set.shape)"
   ]
  },
  {
   "cell_type": "code",
   "execution_count": 4,
   "id": "9c7dac2e",
   "metadata": {
    "execution": {
     "iopub.execute_input": "2023-11-06T05:34:23.734913Z",
     "iopub.status.busy": "2023-11-06T05:34:23.734527Z",
     "iopub.status.idle": "2023-11-06T05:34:25.035433Z",
     "shell.execute_reply": "2023-11-06T05:34:25.034630Z"
    },
    "papermill": {
     "duration": 1.309976,
     "end_time": "2023-11-06T05:34:25.037708",
     "exception": false,
     "start_time": "2023-11-06T05:34:23.727732",
     "status": "completed"
    },
    "tags": []
   },
   "outputs": [
    {
     "data": {
      "text/plain": [
       "array([[0.08581368],\n",
       "       [0.09701243],\n",
       "       [0.09433366],\n",
       "       ...,\n",
       "       [0.95725128],\n",
       "       [0.93796041],\n",
       "       [0.93688146]])"
      ]
     },
     "execution_count": 4,
     "metadata": {},
     "output_type": "execute_result"
    }
   ],
   "source": [
    "from sklearn.preprocessing import MinMaxScaler\n",
    "\n",
    "scaler = MinMaxScaler(feature_range = (0,1))\n",
    "scaled_training_set = scaler.fit_transform(training_set)\n",
    "\n",
    "scaled_training_set"
   ]
  },
  {
   "cell_type": "code",
   "execution_count": 5,
   "id": "9b0b2d31",
   "metadata": {
    "execution": {
     "iopub.execute_input": "2023-11-06T05:34:25.050993Z",
     "iopub.status.busy": "2023-11-06T05:34:25.050426Z",
     "iopub.status.idle": "2023-11-06T05:34:25.061225Z",
     "shell.execute_reply": "2023-11-06T05:34:25.059864Z"
    },
    "papermill": {
     "duration": 0.020612,
     "end_time": "2023-11-06T05:34:25.063894",
     "exception": false,
     "start_time": "2023-11-06T05:34:25.043282",
     "status": "completed"
    },
    "tags": []
   },
   "outputs": [
    {
     "name": "stdout",
     "output_type": "stream",
     "text": [
      "(1198, 60)\n",
      "(1198,)\n"
     ]
    }
   ],
   "source": [
    "X_train = []\n",
    "y_train = []\n",
    "for i in range(60,1258):\n",
    "    X_train.append(scaled_training_set[i-60:i, 0]) \n",
    "    y_train.append(scaled_training_set[i, 0])\n",
    "X_train = np.array(X_train)\n",
    "y_train = np.array(y_train)\n",
    "print (X_train.shape) \n",
    "print(y_train.shape)"
   ]
  },
  {
   "cell_type": "code",
   "execution_count": 6,
   "id": "663028a9",
   "metadata": {
    "execution": {
     "iopub.execute_input": "2023-11-06T05:34:25.076712Z",
     "iopub.status.busy": "2023-11-06T05:34:25.076322Z",
     "iopub.status.idle": "2023-11-06T05:34:25.083850Z",
     "shell.execute_reply": "2023-11-06T05:34:25.082849Z"
    },
    "papermill": {
     "duration": 0.016682,
     "end_time": "2023-11-06T05:34:25.086206",
     "exception": false,
     "start_time": "2023-11-06T05:34:25.069524",
     "status": "completed"
    },
    "tags": []
   },
   "outputs": [
    {
     "data": {
      "text/plain": [
       "(1198, 60, 1)"
      ]
     },
     "execution_count": 6,
     "metadata": {},
     "output_type": "execute_result"
    }
   ],
   "source": [
    "X_train = np.reshape(X_train, (X_train.shape[0], X_train.shape[1], 1))\n",
    "X_train.shape"
   ]
  },
  {
   "cell_type": "code",
   "execution_count": 7,
   "id": "42deaa88",
   "metadata": {
    "execution": {
     "iopub.execute_input": "2023-11-06T05:34:25.099298Z",
     "iopub.status.busy": "2023-11-06T05:34:25.098926Z",
     "iopub.status.idle": "2023-11-06T05:34:34.735564Z",
     "shell.execute_reply": "2023-11-06T05:34:34.734403Z"
    },
    "papermill": {
     "duration": 9.646375,
     "end_time": "2023-11-06T05:34:34.738304",
     "exception": false,
     "start_time": "2023-11-06T05:34:25.091929",
     "status": "completed"
    },
    "tags": []
   },
   "outputs": [],
   "source": [
    "from keras.models import Sequential \n",
    "from keras.layers import LSTM \n",
    "from keras.layers import Dense\n",
    "from keras.layers import Dropout"
   ]
  },
  {
   "cell_type": "code",
   "execution_count": 8,
   "id": "063fefc8",
   "metadata": {
    "execution": {
     "iopub.execute_input": "2023-11-06T05:34:34.752125Z",
     "iopub.status.busy": "2023-11-06T05:34:34.751356Z",
     "iopub.status.idle": "2023-11-06T05:34:36.371608Z",
     "shell.execute_reply": "2023-11-06T05:34:36.370611Z"
    },
    "papermill": {
     "duration": 1.629975,
     "end_time": "2023-11-06T05:34:36.374221",
     "exception": false,
     "start_time": "2023-11-06T05:34:34.744246",
     "status": "completed"
    },
    "tags": []
   },
   "outputs": [],
   "source": [
    "regressor = Sequential()\n",
    "regressor.add(LSTM(units = 50, return_sequences=True, input_shape = (X_train.shape[1], 1)))\n",
    "regressor.add(Dropout (0.2))\n",
    "regressor.add(LSTM(units= 50, return_sequences=True))\n",
    "regressor.add(Dropout (0.2))\n",
    "regressor.add(LSTM(units=50, return_sequences= True))\n",
    "regressor.add(Dropout (0.2))\n",
    "regressor.add(LSTM(units= 50)) \n",
    "regressor.add(Dropout (0.2))\n",
    "regressor.add(Dense (units=1))"
   ]
  },
  {
   "cell_type": "code",
   "execution_count": 9,
   "id": "c58c2d3c",
   "metadata": {
    "execution": {
     "iopub.execute_input": "2023-11-06T05:34:36.387477Z",
     "iopub.status.busy": "2023-11-06T05:34:36.386723Z",
     "iopub.status.idle": "2023-11-06T05:42:00.020359Z",
     "shell.execute_reply": "2023-11-06T05:42:00.019074Z"
    },
    "papermill": {
     "duration": 443.643049,
     "end_time": "2023-11-06T05:42:00.023027",
     "exception": false,
     "start_time": "2023-11-06T05:34:36.379978",
     "status": "completed"
    },
    "tags": []
   },
   "outputs": [
    {
     "name": "stdout",
     "output_type": "stream",
     "text": [
      "Epoch 1/100\n",
      "38/38 [==============================] - 13s 118ms/step - loss: 0.0470\n",
      "Epoch 2/100\n",
      "38/38 [==============================] - 4s 113ms/step - loss: 0.0061\n",
      "Epoch 3/100\n",
      "38/38 [==============================] - 4s 113ms/step - loss: 0.0053\n",
      "Epoch 4/100\n",
      "38/38 [==============================] - 4s 115ms/step - loss: 0.0055\n",
      "Epoch 5/100\n",
      "38/38 [==============================] - 4s 114ms/step - loss: 0.0051\n",
      "Epoch 6/100\n",
      "38/38 [==============================] - 4s 115ms/step - loss: 0.0046\n",
      "Epoch 7/100\n",
      "38/38 [==============================] - 4s 111ms/step - loss: 0.0049\n",
      "Epoch 8/100\n",
      "38/38 [==============================] - 4s 117ms/step - loss: 0.0051\n",
      "Epoch 9/100\n",
      "38/38 [==============================] - 4s 112ms/step - loss: 0.0045\n",
      "Epoch 10/100\n",
      "38/38 [==============================] - 4s 110ms/step - loss: 0.0044\n",
      "Epoch 11/100\n",
      "38/38 [==============================] - 4s 111ms/step - loss: 0.0044\n",
      "Epoch 12/100\n",
      "38/38 [==============================] - 4s 111ms/step - loss: 0.0042\n",
      "Epoch 13/100\n",
      "38/38 [==============================] - 4s 113ms/step - loss: 0.0041\n",
      "Epoch 14/100\n",
      "38/38 [==============================] - 4s 111ms/step - loss: 0.0039\n",
      "Epoch 15/100\n",
      "38/38 [==============================] - 4s 114ms/step - loss: 0.0035\n",
      "Epoch 16/100\n",
      "38/38 [==============================] - 5s 119ms/step - loss: 0.0041\n",
      "Epoch 17/100\n",
      "38/38 [==============================] - 4s 114ms/step - loss: 0.0039\n",
      "Epoch 18/100\n",
      "38/38 [==============================] - 4s 114ms/step - loss: 0.0034\n",
      "Epoch 19/100\n",
      "38/38 [==============================] - 4s 112ms/step - loss: 0.0036\n",
      "Epoch 20/100\n",
      "38/38 [==============================] - 4s 113ms/step - loss: 0.0035\n",
      "Epoch 21/100\n",
      "38/38 [==============================] - 4s 111ms/step - loss: 0.0033\n",
      "Epoch 22/100\n",
      "38/38 [==============================] - 4s 113ms/step - loss: 0.0035\n",
      "Epoch 23/100\n",
      "38/38 [==============================] - 4s 118ms/step - loss: 0.0033\n",
      "Epoch 24/100\n",
      "38/38 [==============================] - 4s 113ms/step - loss: 0.0034\n",
      "Epoch 25/100\n",
      "38/38 [==============================] - 4s 116ms/step - loss: 0.0035\n",
      "Epoch 26/100\n",
      "38/38 [==============================] - 4s 116ms/step - loss: 0.0032\n",
      "Epoch 27/100\n",
      "38/38 [==============================] - 4s 116ms/step - loss: 0.0032\n",
      "Epoch 28/100\n",
      "38/38 [==============================] - 4s 114ms/step - loss: 0.0032\n",
      "Epoch 29/100\n",
      "38/38 [==============================] - 4s 116ms/step - loss: 0.0031\n",
      "Epoch 30/100\n",
      "38/38 [==============================] - 5s 122ms/step - loss: 0.0036\n",
      "Epoch 31/100\n",
      "38/38 [==============================] - 4s 117ms/step - loss: 0.0032\n",
      "Epoch 32/100\n",
      "38/38 [==============================] - 4s 116ms/step - loss: 0.0029\n",
      "Epoch 33/100\n",
      "38/38 [==============================] - 4s 116ms/step - loss: 0.0027\n",
      "Epoch 34/100\n",
      "38/38 [==============================] - 4s 115ms/step - loss: 0.0027\n",
      "Epoch 35/100\n",
      "38/38 [==============================] - 4s 115ms/step - loss: 0.0030\n",
      "Epoch 36/100\n",
      "38/38 [==============================] - 4s 116ms/step - loss: 0.0028\n",
      "Epoch 37/100\n",
      "38/38 [==============================] - 4s 115ms/step - loss: 0.0026\n",
      "Epoch 38/100\n",
      "38/38 [==============================] - 5s 118ms/step - loss: 0.0025\n",
      "Epoch 39/100\n",
      "38/38 [==============================] - 4s 112ms/step - loss: 0.0026\n",
      "Epoch 40/100\n",
      "38/38 [==============================] - 4s 112ms/step - loss: 0.0027\n",
      "Epoch 41/100\n",
      "38/38 [==============================] - 4s 113ms/step - loss: 0.0034\n",
      "Epoch 42/100\n",
      "38/38 [==============================] - 4s 113ms/step - loss: 0.0026\n",
      "Epoch 43/100\n",
      "38/38 [==============================] - 4s 115ms/step - loss: 0.0028\n",
      "Epoch 44/100\n",
      "38/38 [==============================] - 4s 114ms/step - loss: 0.0026\n",
      "Epoch 45/100\n",
      "38/38 [==============================] - 5s 121ms/step - loss: 0.0026\n",
      "Epoch 46/100\n",
      "38/38 [==============================] - 4s 114ms/step - loss: 0.0027\n",
      "Epoch 47/100\n",
      "38/38 [==============================] - 4s 115ms/step - loss: 0.0026\n",
      "Epoch 48/100\n",
      "38/38 [==============================] - 4s 115ms/step - loss: 0.0024\n",
      "Epoch 49/100\n",
      "38/38 [==============================] - 4s 112ms/step - loss: 0.0026\n",
      "Epoch 50/100\n",
      "38/38 [==============================] - 4s 113ms/step - loss: 0.0025\n",
      "Epoch 51/100\n",
      "38/38 [==============================] - 4s 111ms/step - loss: 0.0024\n",
      "Epoch 52/100\n",
      "38/38 [==============================] - 5s 119ms/step - loss: 0.0021\n",
      "Epoch 53/100\n",
      "38/38 [==============================] - 4s 111ms/step - loss: 0.0022\n",
      "Epoch 54/100\n",
      "38/38 [==============================] - 4s 113ms/step - loss: 0.0024\n",
      "Epoch 55/100\n",
      "38/38 [==============================] - 4s 110ms/step - loss: 0.0025\n",
      "Epoch 56/100\n",
      "38/38 [==============================] - 4s 112ms/step - loss: 0.0023\n",
      "Epoch 57/100\n",
      "38/38 [==============================] - 4s 111ms/step - loss: 0.0021\n",
      "Epoch 58/100\n",
      "38/38 [==============================] - 4s 110ms/step - loss: 0.0022\n",
      "Epoch 59/100\n",
      "38/38 [==============================] - 4s 114ms/step - loss: 0.0023\n",
      "Epoch 60/100\n",
      "38/38 [==============================] - 5s 119ms/step - loss: 0.0022\n",
      "Epoch 61/100\n",
      "38/38 [==============================] - 4s 115ms/step - loss: 0.0022\n",
      "Epoch 62/100\n",
      "38/38 [==============================] - 4s 112ms/step - loss: 0.0024\n",
      "Epoch 63/100\n",
      "38/38 [==============================] - 4s 113ms/step - loss: 0.0022\n",
      "Epoch 64/100\n",
      "38/38 [==============================] - 4s 112ms/step - loss: 0.0019\n",
      "Epoch 65/100\n",
      "38/38 [==============================] - 4s 111ms/step - loss: 0.0021\n",
      "Epoch 66/100\n",
      "38/38 [==============================] - 4s 113ms/step - loss: 0.0020\n",
      "Epoch 67/100\n",
      "38/38 [==============================] - 4s 116ms/step - loss: 0.0022\n",
      "Epoch 68/100\n",
      "38/38 [==============================] - 4s 115ms/step - loss: 0.0018\n",
      "Epoch 69/100\n",
      "38/38 [==============================] - 4s 114ms/step - loss: 0.0020\n",
      "Epoch 70/100\n",
      "38/38 [==============================] - 4s 115ms/step - loss: 0.0021\n",
      "Epoch 71/100\n",
      "38/38 [==============================] - 4s 112ms/step - loss: 0.0021\n",
      "Epoch 72/100\n",
      "38/38 [==============================] - 4s 112ms/step - loss: 0.0016\n",
      "Epoch 73/100\n",
      "38/38 [==============================] - 4s 116ms/step - loss: 0.0019\n",
      "Epoch 74/100\n",
      "38/38 [==============================] - 4s 114ms/step - loss: 0.0017\n",
      "Epoch 75/100\n",
      "38/38 [==============================] - 4s 117ms/step - loss: 0.0019\n",
      "Epoch 76/100\n",
      "38/38 [==============================] - 4s 113ms/step - loss: 0.0017\n",
      "Epoch 77/100\n",
      "38/38 [==============================] - 4s 115ms/step - loss: 0.0018\n",
      "Epoch 78/100\n",
      "38/38 [==============================] - 4s 114ms/step - loss: 0.0020\n",
      "Epoch 79/100\n",
      "38/38 [==============================] - 4s 114ms/step - loss: 0.0018\n",
      "Epoch 80/100\n",
      "38/38 [==============================] - 4s 117ms/step - loss: 0.0016\n",
      "Epoch 81/100\n",
      "38/38 [==============================] - 4s 116ms/step - loss: 0.0017\n",
      "Epoch 82/100\n",
      "38/38 [==============================] - 5s 124ms/step - loss: 0.0017\n",
      "Epoch 83/100\n",
      "38/38 [==============================] - 4s 115ms/step - loss: 0.0017\n",
      "Epoch 84/100\n",
      "38/38 [==============================] - 4s 116ms/step - loss: 0.0020\n",
      "Epoch 85/100\n",
      "38/38 [==============================] - 4s 115ms/step - loss: 0.0017\n",
      "Epoch 86/100\n",
      "38/38 [==============================] - 4s 114ms/step - loss: 0.0017\n",
      "Epoch 87/100\n",
      "38/38 [==============================] - 4s 114ms/step - loss: 0.0017\n",
      "Epoch 88/100\n",
      "38/38 [==============================] - 4s 117ms/step - loss: 0.0016\n",
      "Epoch 89/100\n",
      "38/38 [==============================] - 5s 124ms/step - loss: 0.0015\n",
      "Epoch 90/100\n",
      "38/38 [==============================] - 4s 114ms/step - loss: 0.0015\n",
      "Epoch 91/100\n",
      "38/38 [==============================] - 4s 114ms/step - loss: 0.0014\n",
      "Epoch 92/100\n",
      "38/38 [==============================] - 4s 112ms/step - loss: 0.0015\n",
      "Epoch 93/100\n",
      "38/38 [==============================] - 4s 112ms/step - loss: 0.0015\n",
      "Epoch 94/100\n",
      "38/38 [==============================] - 4s 113ms/step - loss: 0.0015\n",
      "Epoch 95/100\n",
      "38/38 [==============================] - 4s 113ms/step - loss: 0.0015\n",
      "Epoch 96/100\n",
      "38/38 [==============================] - 5s 120ms/step - loss: 0.0015\n",
      "Epoch 97/100\n",
      "38/38 [==============================] - 4s 113ms/step - loss: 0.0014\n",
      "Epoch 98/100\n",
      "38/38 [==============================] - 4s 115ms/step - loss: 0.0015\n",
      "Epoch 99/100\n",
      "38/38 [==============================] - 4s 113ms/step - loss: 0.0014\n",
      "Epoch 100/100\n",
      "38/38 [==============================] - 4s 114ms/step - loss: 0.0015\n"
     ]
    },
    {
     "data": {
      "text/plain": [
       "<keras.callbacks.History at 0x7df4bc1eebf0>"
      ]
     },
     "execution_count": 9,
     "metadata": {},
     "output_type": "execute_result"
    }
   ],
   "source": [
    "regressor.compile(optimizer = 'adam', loss = 'mean_squared_error')\n",
    "regressor.fit(X_train, y_train, epochs=100, batch_size=32)"
   ]
  },
  {
   "cell_type": "code",
   "execution_count": 10,
   "id": "4b5ce8cc",
   "metadata": {
    "execution": {
     "iopub.execute_input": "2023-11-06T05:42:00.829927Z",
     "iopub.status.busy": "2023-11-06T05:42:00.829292Z",
     "iopub.status.idle": "2023-11-06T05:42:00.847629Z",
     "shell.execute_reply": "2023-11-06T05:42:00.846478Z"
    },
    "papermill": {
     "duration": 0.461239,
     "end_time": "2023-11-06T05:42:00.850328",
     "exception": false,
     "start_time": "2023-11-06T05:42:00.389089",
     "status": "completed"
    },
    "tags": []
   },
   "outputs": [],
   "source": [
    "dataset_test = pd.read_csv(\"/kaggle/input/google-stock-prices-training-and-test-data/Google_Stock_Price_Test.csv\")\n",
    "actual_stock_price = dataset_test.iloc[:,1:2].values"
   ]
  },
  {
   "cell_type": "code",
   "execution_count": 11,
   "id": "86e0a5f0",
   "metadata": {
    "execution": {
     "iopub.execute_input": "2023-11-06T05:42:01.586198Z",
     "iopub.status.busy": "2023-11-06T05:42:01.585415Z",
     "iopub.status.idle": "2023-11-06T05:42:01.594655Z",
     "shell.execute_reply": "2023-11-06T05:42:01.593567Z"
    },
    "papermill": {
     "duration": 0.382557,
     "end_time": "2023-11-06T05:42:01.597260",
     "exception": false,
     "start_time": "2023-11-06T05:42:01.214703",
     "status": "completed"
    },
    "tags": []
   },
   "outputs": [],
   "source": [
    "dataset_total = pd.concat((dataset_train['Open'], dataset_test['Open']), axis = 0)\n",
    "inputs = dataset_total[len(dataset_total)- len(dataset_test)-60:].values\n",
    "inputs = inputs.reshape(-1,1)\n",
    "inputs = scaler.transform(inputs)\n",
    "X_test = []\n",
    "for i in range(60,80):\n",
    "    X_test.append(inputs [i-60:i, 0])\n",
    "X_test = np.array(X_test)\n",
    "X_test = np.reshape(X_test, (X_test.shape[0], X_test.shape[1], 1))"
   ]
  },
  {
   "cell_type": "code",
   "execution_count": 12,
   "id": "50821e68",
   "metadata": {
    "execution": {
     "iopub.execute_input": "2023-11-06T05:42:02.324931Z",
     "iopub.status.busy": "2023-11-06T05:42:02.324511Z",
     "iopub.status.idle": "2023-11-06T05:42:04.018419Z",
     "shell.execute_reply": "2023-11-06T05:42:04.017410Z"
    },
    "papermill": {
     "duration": 2.060217,
     "end_time": "2023-11-06T05:42:04.020756",
     "exception": false,
     "start_time": "2023-11-06T05:42:01.960539",
     "status": "completed"
    },
    "tags": []
   },
   "outputs": [
    {
     "name": "stdout",
     "output_type": "stream",
     "text": [
      "1/1 [==============================] - 2s 2s/step\n"
     ]
    }
   ],
   "source": [
    "predicted_stock_price = regressor.predict(X_test)\n",
    "predicted_stock_price = scaler.inverse_transform(predicted_stock_price)"
   ]
  },
  {
   "cell_type": "code",
   "execution_count": 13,
   "id": "31b25b49",
   "metadata": {
    "execution": {
     "iopub.execute_input": "2023-11-06T05:42:04.742970Z",
     "iopub.status.busy": "2023-11-06T05:42:04.742585Z",
     "iopub.status.idle": "2023-11-06T05:42:05.172018Z",
     "shell.execute_reply": "2023-11-06T05:42:05.170786Z"
    },
    "papermill": {
     "duration": 0.794189,
     "end_time": "2023-11-06T05:42:05.174569",
     "exception": false,
     "start_time": "2023-11-06T05:42:04.380380",
     "status": "completed"
    },
    "tags": []
   },
   "outputs": [
    {
     "data": {
      "text/plain": [
       "<matplotlib.legend.Legend at 0x7df4b4d1f370>"
      ]
     },
     "execution_count": 13,
     "metadata": {},
     "output_type": "execute_result"
    },
    {
     "data": {
      "image/png": "[encoded data removed]",
      "text/plain": [
       "<Figure size 640x480 with 1 Axes>"
      ]
     },
     "metadata": {},
     "output_type": "display_data"
    }
   ],
   "source": [
    "plt.plot(actual_stock_price, color = 'red', label = 'Actual Google Stock Price')\n",
    "plt.plot(predicted_stock_price, color = 'blue', label = 'Predicted Google Stock Price') \n",
    "plt.title(\"Google Stock Price Prediction\")\n",
    "plt.xlabel('Time')\n",
    "plt.xlabel('Google Stock Price')\n",
    "plt.legend()"
   ]
  }
 ],
 "metadata": {
  "kernelspec": {
   "display_name": "Python 3",
   "language": "python",
   "name": "python3"
  },
  "language_info": {
   "codemirror_mode": {
    "name": "ipython",
    "version": 3
   },
   "file_extension": ".py",
   "mimetype": "text/x-python",
   "name": "python",
   "nbconvert_exporter": "python",
   "pygments_lexer": "ipython3",
   "version": "3.10.12"
  },
  "papermill": {
   "default_parameters": {},
   "duration": 468.838597,
   "end_time": "2023-11-06T05:42:08.280595",
   "environment_variables": {},
   "exception": null,
   "input_path": "__notebook__.ipynb",
   "output_path": "__notebook__.ipynb",
   "parameters": {},
   "start_time": "2023-11-06T05:34:19.441998",
   "version": "2.4.0"
  }
 },
 "nbformat": 4,
 "nbformat_minor": 5
}
