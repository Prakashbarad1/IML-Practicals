{
 "cells": [
  {
   "cell_type": "code",
   "execution_count": 1,
   "id": "dfd1b04f",
   "metadata": {
    "_cell_guid": "b1076dfc-b9ad-4769-8c92-a6c4dae69d19",
    "_uuid": "8f2839f25d086af736a60e9eeb907d3b93b6e0e5",
    "execution": {
     "iopub.execute_input": "2023-10-25T16:10:21.799507Z",
     "iopub.status.busy": "2023-10-25T16:10:21.798861Z",
     "iopub.status.idle": "2023-10-25T16:10:22.188735Z",
     "shell.execute_reply": "2023-10-25T16:10:22.187831Z"
    },
    "papermill": {
     "duration": 0.399057,
     "end_time": "2023-10-25T16:10:22.191501",
     "exception": false,
     "start_time": "2023-10-25T16:10:21.792444",
     "status": "completed"
    },
    "tags": []
   },
   "outputs": [],
   "source": [
    "import numpy as np # linear algebra\n",
    "import pandas as pd # data processing, CSV file I/O (e.g. pd.read_csv)"
   ]
  },
  {
   "cell_type": "code",
   "execution_count": 2,
   "id": "b6f7361e",
   "metadata": {
    "execution": {
     "iopub.execute_input": "2023-10-25T16:10:22.200405Z",
     "iopub.status.busy": "2023-10-25T16:10:22.199977Z",
     "iopub.status.idle": "2023-10-25T16:10:22.216059Z",
     "shell.execute_reply": "2023-10-25T16:10:22.215100Z"
    },
    "papermill": {
     "duration": 0.023844,
     "end_time": "2023-10-25T16:10:22.218244",
     "exception": false,
     "start_time": "2023-10-25T16:10:22.194400",
     "status": "completed"
    },
    "tags": []
   },
   "outputs": [
    {
     "name": "stdout",
     "output_type": "stream",
     "text": [
      "        name  eno\n",
      "0  ghanshyam   72\n",
      "1      harsh   72\n",
      "2       yash   73\n"
     ]
    }
   ],
   "source": [
    "# Write a Pandas program to implement following operation\n",
    "# to create a dataframe from a dictionary and display it\n",
    "\n",
    "# Developed By: Prakash Barad \n",
    "# Enrollement No: 216270307040\n",
    "\n",
    "d={\"name\":[\"ghanshyam\",\"harsh\",\"yash\"],\"eno\":[72,72,73]}\n",
    "\n",
    "df=pd.DataFrame(d)\n",
    "\n",
    "print(df)"
   ]
  },
  {
   "cell_type": "code",
   "execution_count": 3,
   "id": "2caaa66b",
   "metadata": {
    "execution": {
     "iopub.execute_input": "2023-10-25T16:10:22.225035Z",
     "iopub.status.busy": "2023-10-25T16:10:22.224717Z",
     "iopub.status.idle": "2023-10-25T16:10:22.241065Z",
     "shell.execute_reply": "2023-10-25T16:10:22.240099Z"
    },
    "papermill": {
     "duration": 0.022956,
     "end_time": "2023-10-25T16:10:22.243929",
     "exception": false,
     "start_time": "2023-10-25T16:10:22.220973",
     "status": "completed"
    },
    "tags": []
   },
   "outputs": [
    {
     "name": "stdout",
     "output_type": "stream",
     "text": [
      "Before sort:\n",
      "         name  eno\n",
      "0  ghanshyam   72\n",
      "1       yash   73\n",
      "2      harsh   74\n",
      "\n",
      "After sort:\n",
      "         name  eno\n",
      "0  ghanshyam   72\n",
      "2      harsh   74\n",
      "1       yash   73\n"
     ]
    }
   ],
   "source": [
    "# Write a Pandas program to implement following operation\n",
    "# to sort the DataFrame first by 'name' in ascending order\n",
    "\n",
    "# Developed By: Prakash Barad \n",
    "# Enrollement No: 216270307040\n",
    "\n",
    "\n",
    "\n",
    "d={\"name\":[\"ghanshyam\",\"yash\",\"harsh\"],\"eno\":[72,73,74]}\n",
    "\n",
    "df=pd.DataFrame(d)\n",
    "\n",
    "print(\"Before sort:\\n\",df)\n",
    "\n",
    "df=df.sort_values(by=[\"name\"],ascending=True)\n",
    "print()\n",
    "print(\"After sort:\\n\",df)"
   ]
  },
  {
   "cell_type": "code",
   "execution_count": 4,
   "id": "a9919e6b",
   "metadata": {
    "execution": {
     "iopub.execute_input": "2023-10-25T16:10:22.250892Z",
     "iopub.status.busy": "2023-10-25T16:10:22.250593Z",
     "iopub.status.idle": "2023-10-25T16:10:22.262581Z",
     "shell.execute_reply": "2023-10-25T16:10:22.261553Z"
    },
    "papermill": {
     "duration": 0.018227,
     "end_time": "2023-10-25T16:10:22.264885",
     "exception": false,
     "start_time": "2023-10-25T16:10:22.246658",
     "status": "completed"
    },
    "tags": []
   },
   "outputs": [
    {
     "name": "stdout",
     "output_type": "stream",
     "text": [
      "Original DataFrame:\n",
      "         name  eno\n",
      "0  ghanshyam   72\n",
      "2      harsh   74\n",
      "1       yash   73\n",
      "\n",
      "After Deleting Eno column:\n",
      "         name\n",
      "0  ghanshyam\n",
      "2      harsh\n",
      "1       yash\n"
     ]
    }
   ],
   "source": [
    "# Write a Pandas program to implement following operation\n",
    "# to delete the one specific column from the DataFrame\n",
    "\n",
    "# Developed By: Prakash Barad \n",
    "# Enrollement No: 216270307040\n",
    "\n",
    "\n",
    "print(\"Original DataFrame:\\n\",df)\n",
    "\n",
    "df=df.drop(columns=\"eno\")\n",
    "\n",
    "print()\n",
    "print(\"After Deleting Eno column:\\n\",df)"
   ]
  },
  {
   "cell_type": "code",
   "execution_count": 5,
   "id": "7c37c1d8",
   "metadata": {
    "execution": {
     "iopub.execute_input": "2023-10-25T16:10:22.271788Z",
     "iopub.status.busy": "2023-10-25T16:10:22.271500Z",
     "iopub.status.idle": "2023-10-25T16:10:22.280571Z",
     "shell.execute_reply": "2023-10-25T16:10:22.279769Z"
    },
    "papermill": {
     "duration": 0.015239,
     "end_time": "2023-10-25T16:10:22.282854",
     "exception": false,
     "start_time": "2023-10-25T16:10:22.267615",
     "status": "completed"
    },
    "tags": []
   },
   "outputs": [],
   "source": [
    "# Write a Pandas program to implement following operation\n",
    "# to write a DataFrame to CSV file using tab separator\n",
    "\n",
    "# Developed By: Prakash Barad \n",
    "# Enrollement No: 216270307040\n",
    "\n",
    "df.to_csv('/kaggle/working/dataset.csv', index=False, sep=\"\\t\")"
   ]
  }
 ],
 "metadata": {
  "kernelspec": {
   "display_name": "Python 3",
   "language": "python",
   "name": "python3"
  },
  "language_info": {
   "codemirror_mode": {
    "name": "ipython",
    "version": 3
   },
   "file_extension": ".py",
   "mimetype": "text/x-python",
   "name": "python",
   "nbconvert_exporter": "python",
   "pygments_lexer": "ipython3",
   "version": "3.10.12"
  },
  "papermill": {
   "default_parameters": {},
   "duration": 4.34962,
   "end_time": "2023-10-25T16:10:22.704067",
   "environment_variables": {},
   "exception": null,
   "input_path": "__notebook__.ipynb",
   "output_path": "__notebook__.ipynb",
   "parameters": {},
   "start_time": "2023-10-25T16:10:18.354447",
   "version": "2.4.0"
  }
 },
 "nbformat": 4,
 "nbformat_minor": 5
}
