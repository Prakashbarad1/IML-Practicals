{
 "cells": [
  {
   "cell_type": "code",
   "execution_count": 1,
   "id": "dad93645",
   "metadata": {
    "_cell_guid": "b1076dfc-b9ad-4769-8c92-a6c4dae69d19",
    "_uuid": "8f2839f25d086af736a60e9eeb907d3b93b6e0e5",
    "execution": {
     "iopub.execute_input": "2023-10-25T16:11:23.262260Z",
     "iopub.status.busy": "2023-10-25T16:11:23.261725Z",
     "iopub.status.idle": "2023-10-25T16:11:23.700504Z",
     "shell.execute_reply": "2023-10-25T16:11:23.699399Z"
    },
    "papermill": {
     "duration": 0.447051,
     "end_time": "2023-10-25T16:11:23.703370",
     "exception": false,
     "start_time": "2023-10-25T16:11:23.256319",
     "status": "completed"
    },
    "tags": []
   },
   "outputs": [],
   "source": [
    "import numpy as np # linear algebra\n",
    "import pandas as pd # data processing, CSV file I/O (e.g. pd.read_csv)"
   ]
  },
  {
   "cell_type": "code",
   "execution_count": 2,
   "id": "a953a6f6",
   "metadata": {
    "execution": {
     "iopub.execute_input": "2023-10-25T16:11:23.715303Z",
     "iopub.status.busy": "2023-10-25T16:11:23.714539Z",
     "iopub.status.idle": "2023-10-25T16:11:23.734268Z",
     "shell.execute_reply": "2023-10-25T16:11:23.732807Z"
    },
    "papermill": {
     "duration": 0.030704,
     "end_time": "2023-10-25T16:11:23.737533",
     "exception": false,
     "start_time": "2023-10-25T16:11:23.706829",
     "status": "completed"
    },
    "tags": []
   },
   "outputs": [
    {
     "name": "stdout",
     "output_type": "stream",
     "text": [
      "        name  eno\n",
      "0  ghanshyam   72\n",
      "1      harsh   72\n",
      "2       yash   73\n"
     ]
    }
   ],
   "source": [
    "# Write a Pandas program to implement following operation\n",
    "# to create a dataframe from a dictionary and display it\n",
    "\n",
    "# Developed By: Prakash Barad \n",
    "# Enrollement No: 216270307040\n",
    "\n",
    "d={\"name\":[\"ghanshyam\",\"harsh\",\"yash\"],\"eno\":[72,72,73]}\n",
    "\n",
    "df=pd.DataFrame(d)\n",
    "\n",
    "print(df)"
   ]
  },
  {
   "cell_type": "code",
   "execution_count": 3,
   "id": "78c33d27",
   "metadata": {
    "execution": {
     "iopub.execute_input": "2023-10-25T16:11:23.746317Z",
     "iopub.status.busy": "2023-10-25T16:11:23.745772Z",
     "iopub.status.idle": "2023-10-25T16:11:23.771364Z",
     "shell.execute_reply": "2023-10-25T16:11:23.770321Z"
    },
    "papermill": {
     "duration": 0.033188,
     "end_time": "2023-10-25T16:11:23.774000",
     "exception": false,
     "start_time": "2023-10-25T16:11:23.740812",
     "status": "completed"
    },
    "tags": []
   },
   "outputs": [
    {
     "name": "stdout",
     "output_type": "stream",
     "text": [
      "Before sort:\n",
      "         name  eno\n",
      "0  ghanshyam   72\n",
      "1       yash   73\n",
      "2      harsh   74\n",
      "\n",
      "After sort:\n",
      "         name  eno\n",
      "0  ghanshyam   72\n",
      "2      harsh   74\n",
      "1       yash   73\n"
     ]
    }
   ],
   "source": [
    "# Write a Pandas program to implement following operation\n",
    "# to sort the DataFrame first by 'name' in ascending order\n",
    "\n",
    "# Developed By: Prakash Barad \n",
    "# Enrollement No: 216270307040\n",
    "\n",
    "\n",
    "\n",
    "d={\"name\":[\"ghanshyam\",\"yash\",\"harsh\"],\"eno\":[72,73,74]}\n",
    "\n",
    "df=pd.DataFrame(d)\n",
    "\n",
    "print(\"Before sort:\\n\",df)\n",
    "\n",
    "df=df.sort_values(by=[\"name\"],ascending=True)\n",
    "print()\n",
    "print(\"After sort:\\n\",df)"
   ]
  },
  {
   "cell_type": "code",
   "execution_count": 4,
   "id": "a8329b2a",
   "metadata": {
    "execution": {
     "iopub.execute_input": "2023-10-25T16:11:23.783008Z",
     "iopub.status.busy": "2023-10-25T16:11:23.781737Z",
     "iopub.status.idle": "2023-10-25T16:11:23.798510Z",
     "shell.execute_reply": "2023-10-25T16:11:23.797435Z"
    },
    "papermill": {
     "duration": 0.023398,
     "end_time": "2023-10-25T16:11:23.800673",
     "exception": false,
     "start_time": "2023-10-25T16:11:23.777275",
     "status": "completed"
    },
    "tags": []
   },
   "outputs": [
    {
     "name": "stdout",
     "output_type": "stream",
     "text": [
      "Original DataFrame:\n",
      "         name  eno\n",
      "0  ghanshyam   72\n",
      "2      harsh   74\n",
      "1       yash   73\n",
      "\n",
      "After Deleting Eno column:\n",
      "         name\n",
      "0  ghanshyam\n",
      "2      harsh\n",
      "1       yash\n"
     ]
    }
   ],
   "source": [
    "# Write a Pandas program to implement following operation\n",
    "# to delete the one specific column from the DataFrame\n",
    "\n",
    "# Developed By: Prakash Barad \n",
    "# Enrollement No: 216270307040\n",
    "\n",
    "\n",
    "print(\"Original DataFrame:\\n\",df)\n",
    "\n",
    "df=df.drop(columns=\"eno\")\n",
    "\n",
    "print()\n",
    "print(\"After Deleting Eno column:\\n\",df)"
   ]
  },
  {
   "cell_type": "code",
   "execution_count": 5,
   "id": "fcda10ae",
   "metadata": {
    "execution": {
     "iopub.execute_input": "2023-10-25T16:11:23.809849Z",
     "iopub.status.busy": "2023-10-25T16:11:23.808699Z",
     "iopub.status.idle": "2023-10-25T16:11:23.820881Z",
     "shell.execute_reply": "2023-10-25T16:11:23.819664Z"
    },
    "papermill": {
     "duration": 0.019826,
     "end_time": "2023-10-25T16:11:23.823677",
     "exception": false,
     "start_time": "2023-10-25T16:11:23.803851",
     "status": "completed"
    },
    "tags": []
   },
   "outputs": [],
   "source": [
    "# Write a Pandas program to implement following operation\n",
    "# to write a DataFrame to CSV file using tab separator\n",
    "\n",
    "# Developed By: Prakash Barad \n",
    "# Enrollement No: 216270307040\n",
    "\n",
    "df.to_csv('/kaggle/working/dataset.csv', index=False, sep=\"\\t\")"
   ]
  }
 ],
 "metadata": {
  "kernelspec": {
   "display_name": "Python 3",
   "language": "python",
   "name": "python3"
  },
  "language_info": {
   "codemirror_mode": {
    "name": "ipython",
    "version": 3
   },
   "file_extension": ".py",
   "mimetype": "text/x-python",
   "name": "python",
   "nbconvert_exporter": "python",
   "pygments_lexer": "ipython3",
   "version": "3.10.12"
  },
  "papermill": {
   "default_parameters": {},
   "duration": 5.186673,
   "end_time": "2023-10-25T16:11:24.549438",
   "environment_variables": {},
   "exception": null,
   "input_path": "__notebook__.ipynb",
   "output_path": "__notebook__.ipynb",
   "parameters": {},
   "start_time": "2023-10-25T16:11:19.362765",
   "version": "2.4.0"
  }
 },
 "nbformat": 4,
 "nbformat_minor": 5
}
