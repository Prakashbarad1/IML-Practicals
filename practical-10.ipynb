{
 "cells": [
  {
   "cell_type": "code",
   "execution_count": 1,
   "id": "5f1aa3a1",
   "metadata": {
    "_cell_guid": "b1076dfc-b9ad-4769-8c92-a6c4dae69d19",
    "_uuid": "8f2839f25d086af736a60e9eeb907d3b93b6e0e5",
    "execution": {
     "iopub.execute_input": "2023-11-06T04:29:56.368494Z",
     "iopub.status.busy": "2023-11-06T04:29:56.367662Z",
     "iopub.status.idle": "2023-11-06T04:29:56.831630Z",
     "shell.execute_reply": "2023-11-06T04:29:56.830494Z"
    },
    "papermill": {
     "duration": 0.471394,
     "end_time": "2023-11-06T04:29:56.834293",
     "exception": false,
     "start_time": "2023-11-06T04:29:56.362899",
     "status": "completed"
    },
    "tags": []
   },
   "outputs": [
    {
     "name": "stdout",
     "output_type": "stream",
     "text": [
      "Original DataFrame:\n",
      "     A       B\n",
      "0  1.0   apple\n",
      "1  2.0  banana\n",
      "2  NaN  cherry\n",
      "3  4.0  banana\n",
      "4  5.0   apple\n",
      "5  5.0   apple\n",
      "\n",
      "DataFrame after dropping missing values:\n",
      "     A       B\n",
      "0  1.0   apple\n",
      "1  2.0  banana\n",
      "3  4.0  banana\n",
      "4  5.0   apple\n",
      "5  5.0   apple\n",
      "\n",
      "DataFrame after removing duplicates:\n",
      "     A       B\n",
      "0  1.0   apple\n",
      "1  2.0  banana\n",
      "3  4.0  banana\n",
      "4  5.0   apple\n"
     ]
    }
   ],
   "source": [
    "# Write a Pandas program to implement following operation\n",
    "# to find and drop the missing values from the given dataset\n",
    "\n",
    "# Developed By: Prakash Barad \n",
    "# Enrollement No: 216270307040\n",
    "\n",
    "import numpy as np # linear algebra\n",
    "import pandas as pd # data processing, CSV file I/O (e.g. pd.read_csv)\n",
    "\n",
    "data = {'A': [1, 2, None, 4, 5 ,5],\n",
    "        'B': ['apple', 'banana', 'cherry', 'banana', 'apple' , 'apple']}\n",
    "df = pd.DataFrame(data)\n",
    "\n",
    "print(\"Original DataFrame:\")\n",
    "print(df)\n",
    "\n",
    "df.dropna(inplace=True)\n",
    "\n",
    "print(\"\\nDataFrame after dropping missing values:\")\n",
    "print(df)\n",
    "\n",
    "'''\n",
    "to remove the duplicates from the given dataset\n",
    "'''\n",
    "\n",
    "df.drop_duplicates(inplace=True)\n",
    "\n",
    "print(\"\\nDataFrame after removing duplicates:\")\n",
    "print(df)"
   ]
  },
  {
   "cell_type": "code",
   "execution_count": 2,
   "id": "2cc22411",
   "metadata": {
    "execution": {
     "iopub.execute_input": "2023-11-06T04:29:56.842792Z",
     "iopub.status.busy": "2023-11-06T04:29:56.842220Z",
     "iopub.status.idle": "2023-11-06T04:29:56.854843Z",
     "shell.execute_reply": "2023-11-06T04:29:56.853506Z"
    },
    "papermill": {
     "duration": 0.021052,
     "end_time": "2023-11-06T04:29:56.857617",
     "exception": false,
     "start_time": "2023-11-06T04:29:56.836565",
     "status": "completed"
    },
    "tags": []
   },
   "outputs": [
    {
     "name": "stdout",
     "output_type": "stream",
     "text": [
      "Original DataFrame:\n",
      "   Roll_No       Name\n",
      "0        1      Harsh\n",
      "1        2       Yash\n",
      "2        3  Ghanshyam\n",
      "3        4       Yash\n",
      "4        5      Harsh\n",
      "5        5      Harsh\n"
     ]
    }
   ],
   "source": [
    "# Write a Pandas program to implement following operation:\n",
    "# • to remove the duplicates from the given dataset\n",
    "\n",
    "# Developed By: Prakash Barad \n",
    "# Enrollement No: 216270307040\n",
    "\n",
    "dic = {'Roll_No': [1, 2, 3, 4, 5 ,5],\n",
    "       'Name': ['Harsh', 'Yash', 'Ghanshyam', 'Yash', 'Harsh' , 'Harsh']}\n",
    "df = pd.DataFrame(dic)\n",
    "print(\"Original DataFrame:\")\n",
    "print(df)\n",
    "df.drop_duplicates(inplace=True)"
   ]
  }
 ],
 "metadata": {
  "kernelspec": {
   "display_name": "Python 3",
   "language": "python",
   "name": "python3"
  },
  "language_info": {
   "codemirror_mode": {
    "name": "ipython",
    "version": 3
   },
   "file_extension": ".py",
   "mimetype": "text/x-python",
   "name": "python",
   "nbconvert_exporter": "python",
   "pygments_lexer": "ipython3",
   "version": "3.10.12"
  },
  "papermill": {
   "default_parameters": {},
   "duration": 4.894634,
   "end_time": "2023-11-06T04:29:57.380304",
   "environment_variables": {},
   "exception": null,
   "input_path": "__notebook__.ipynb",
   "output_path": "__notebook__.ipynb",
   "parameters": {},
   "start_time": "2023-11-06T04:29:52.485670",
   "version": "2.4.0"
  }
 },
 "nbformat": 4,
 "nbformat_minor": 5
}
