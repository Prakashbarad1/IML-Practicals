{
 "cells": [
  {
   "cell_type": "code",
   "execution_count": 1,
   "id": "a79d5277",
   "metadata": {
    "_cell_guid": "b1076dfc-b9ad-4769-8c92-a6c4dae69d19",
    "_uuid": "8f2839f25d086af736a60e9eeb907d3b93b6e0e5",
    "execution": {
     "iopub.execute_input": "2023-10-25T16:21:13.547888Z",
     "iopub.status.busy": "2023-10-25T16:21:13.547507Z",
     "iopub.status.idle": "2023-10-25T16:21:14.509188Z",
     "shell.execute_reply": "2023-10-25T16:21:14.507808Z"
    },
    "papermill": {
     "duration": 0.969046,
     "end_time": "2023-10-25T16:21:14.512589",
     "exception": false,
     "start_time": "2023-10-25T16:21:13.543543",
     "status": "completed"
    },
    "tags": []
   },
   "outputs": [
    {
     "name": "stdout",
     "output_type": "stream",
     "text": [
      "Original DataFrame:\n",
      "     A       B\n",
      "0  1.0   apple\n",
      "1  2.0  banana\n",
      "2  NaN  cherry\n",
      "3  4.0  banana\n",
      "4  5.0   apple\n",
      "5  5.0   apple\n",
      "\n",
      "DataFrame after dropping missing values:\n",
      "     A       B\n",
      "0  1.0   apple\n",
      "1  2.0  banana\n",
      "3  4.0  banana\n",
      "4  5.0   apple\n",
      "5  5.0   apple\n",
      "\n",
      "DataFrame after removing duplicates:\n",
      "     A       B\n",
      "0  1.0   apple\n",
      "1  2.0  banana\n",
      "3  4.0  banana\n",
      "4  5.0   apple\n"
     ]
    }
   ],
   "source": [
    "# Write a Pandas program to implement following operation\n",
    "# to find and drop the missing values from the given dataset\n",
    "\n",
    "# Developed By: Prakash Barad \n",
    "# Enrollement No: 216270307040\n",
    "\n",
    "import numpy as np # linear algebra\n",
    "import pandas as pd # data processing, CSV file I/O (e.g. pd.read_csv)\n",
    "\n",
    "data = {'A': [1, 2, None, 4, 5 ,5],\n",
    "        'B': ['apple', 'banana', 'cherry', 'banana', 'apple' , 'apple']}\n",
    "df = pd.DataFrame(data)\n",
    "\n",
    "print(\"Original DataFrame:\")\n",
    "print(df)\n",
    "\n",
    "df.dropna(inplace=True)\n",
    "\n",
    "print(\"\\nDataFrame after dropping missing values:\")\n",
    "print(df)\n",
    "\n",
    "'''\n",
    "to remove the duplicates from the given dataset\n",
    "'''\n",
    "\n",
    "df.drop_duplicates(inplace=True)\n",
    "\n",
    "print(\"\\nDataFrame after removing duplicates:\")\n",
    "print(df)"
   ]
  }
 ],
 "metadata": {
  "kernelspec": {
   "display_name": "Python 3",
   "language": "python",
   "name": "python3"
  },
  "language_info": {
   "codemirror_mode": {
    "name": "ipython",
    "version": 3
   },
   "file_extension": ".py",
   "mimetype": "text/x-python",
   "name": "python",
   "nbconvert_exporter": "python",
   "pygments_lexer": "ipython3",
   "version": "3.10.12"
  },
  "papermill": {
   "default_parameters": {},
   "duration": 8.632006,
   "end_time": "2023-10-25T16:21:17.174182",
   "environment_variables": {},
   "exception": null,
   "input_path": "__notebook__.ipynb",
   "output_path": "__notebook__.ipynb",
   "parameters": {},
   "start_time": "2023-10-25T16:21:08.542176",
   "version": "2.4.0"
  }
 },
 "nbformat": 4,
 "nbformat_minor": 5
}
