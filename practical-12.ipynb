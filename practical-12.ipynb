{
 "cells": [
  {
   "cell_type": "code",
   "execution_count": 1,
   "id": "63b452a9",
   "metadata": {
    "_cell_guid": "b1076dfc-b9ad-4769-8c92-a6c4dae69d19",
    "_uuid": "8f2839f25d086af736a60e9eeb907d3b93b6e0e5",
    "execution": {
     "iopub.execute_input": "2023-11-05T17:18:56.488412Z",
     "iopub.status.busy": "2023-11-05T17:18:56.487621Z",
     "iopub.status.idle": "2023-11-05T17:18:56.950789Z",
     "shell.execute_reply": "2023-11-05T17:18:56.949627Z"
    },
    "papermill": {
     "duration": 0.471704,
     "end_time": "2023-11-05T17:18:56.954343",
     "exception": false,
     "start_time": "2023-11-05T17:18:56.482639",
     "status": "completed"
    },
    "tags": []
   },
   "outputs": [
    {
     "name": "stdout",
     "output_type": "stream",
     "text": [
      "\n",
      "Keys of Iris dataset:\n",
      "Index(['sepal_length', 'sepal_width', 'petal_length', 'petal_width',\n",
      "       'species'],\n",
      "      dtype='object')\n",
      "\n",
      "Number of rows and columns of Iris dataset:\n",
      "(150, 5)\n"
     ]
    }
   ],
   "source": [
    "# Write a Python program using Scikit-learn to print the keys, \n",
    "# number of rows-columns, feature names and the description of \n",
    "# the given data.\n",
    "\n",
    "# Developed By: Prakash Barad \n",
    "# Enrollement No: 216270307040\n",
    "\n",
    "import numpy as np # linear algebra\n",
    "import pandas as pd # data processing, CSV file I/O (e.g. pd.read_csv)\n",
    "\n",
    "data = pd.read_csv(\"/kaggle/input/iris-dataset/iris.csv\")\n",
    "print(\"\\nKeys of Iris dataset:\")\n",
    "print(data.keys())\n",
    "print(\"\\nNumber of rows and columns of Iris dataset:\")\n",
    "print(data.shape)"
   ]
  }
 ],
 "metadata": {
  "kernelspec": {
   "display_name": "Python 3",
   "language": "python",
   "name": "python3"
  },
  "language_info": {
   "codemirror_mode": {
    "name": "ipython",
    "version": 3
   },
   "file_extension": ".py",
   "mimetype": "text/x-python",
   "name": "python",
   "nbconvert_exporter": "python",
   "pygments_lexer": "ipython3",
   "version": "3.10.12"
  },
  "papermill": {
   "default_parameters": {},
   "duration": 4.685468,
   "end_time": "2023-11-05T17:18:57.479134",
   "environment_variables": {},
   "exception": null,
   "input_path": "__notebook__.ipynb",
   "output_path": "__notebook__.ipynb",
   "parameters": {},
   "start_time": "2023-11-05T17:18:52.793666",
   "version": "2.4.0"
  }
 },
 "nbformat": 4,
 "nbformat_minor": 5
}
