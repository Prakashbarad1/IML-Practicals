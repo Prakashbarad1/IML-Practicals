{
 "cells": [
  {
   "cell_type": "code",
   "execution_count": 1,
   "id": "c398ed75",
   "metadata": {
    "execution": {
     "iopub.execute_input": "2023-10-25T16:03:44.836603Z",
     "iopub.status.busy": "2023-10-25T16:03:44.836081Z",
     "iopub.status.idle": "2023-10-25T16:03:45.275286Z",
     "shell.execute_reply": "2023-10-25T16:03:45.274047Z"
    },
    "papermill": {
     "duration": 0.447772,
     "end_time": "2023-10-25T16:03:45.278531",
     "exception": false,
     "start_time": "2023-10-25T16:03:44.830759",
     "status": "completed"
    },
    "tags": []
   },
   "outputs": [],
   "source": [
    "import pandas as pd   \n",
    "import numpy as np  "
   ]
  },
  {
   "cell_type": "code",
   "execution_count": 2,
   "id": "e355a5fe",
   "metadata": {
    "execution": {
     "iopub.execute_input": "2023-10-25T16:03:45.291202Z",
     "iopub.status.busy": "2023-10-25T16:03:45.290619Z",
     "iopub.status.idle": "2023-10-25T16:03:45.304234Z",
     "shell.execute_reply": "2023-10-25T16:03:45.302775Z"
    },
    "papermill": {
     "duration": 0.026214,
     "end_time": "2023-10-25T16:03:45.308287",
     "exception": false,
     "start_time": "2023-10-25T16:03:45.282073",
     "status": "completed"
    },
    "tags": []
   },
   "outputs": [
    {
     "name": "stdout",
     "output_type": "stream",
     "text": [
      "NumPy Array: [10 20 30]\n",
      "\n",
      "Series:\n",
      " a    10\n",
      "b    20\n",
      "c    30\n",
      "dtype: int64\n"
     ]
    }
   ],
   "source": [
    "#Write a Pandas program to implement following operation\n",
    "#•to convert a NumPy array to a Pandas series\n",
    "\n",
    "# Developed By: Prakash Barad \n",
    "# Enrollement No: 216270307040\n",
    "\n",
    "a=np.array([10,20,30])\n",
    "print(\"NumPy Array:\",a)\n",
    "print()\n",
    "s=pd.Series(a,index=[\"a\",\"b\",\"c\"])\n",
    "print(\"Series:\\n\",s)"
   ]
  },
  {
   "cell_type": "code",
   "execution_count": 3,
   "id": "29909210",
   "metadata": {
    "execution": {
     "iopub.execute_input": "2023-10-25T16:03:45.316314Z",
     "iopub.status.busy": "2023-10-25T16:03:45.315865Z",
     "iopub.status.idle": "2023-10-25T16:03:45.333929Z",
     "shell.execute_reply": "2023-10-25T16:03:45.332787Z"
    },
    "papermill": {
     "duration": 0.025643,
     "end_time": "2023-10-25T16:03:45.337291",
     "exception": false,
     "start_time": "2023-10-25T16:03:45.311648",
     "status": "completed"
    },
    "tags": []
   },
   "outputs": [
    {
     "name": "stdout",
     "output_type": "stream",
     "text": [
      "DataFrame:\n",
      "         name  eno\n",
      "0  ghanshyam   72\n",
      "1      harsh   73\n",
      "2       yash   74\n",
      "\n",
      "Series:\n",
      " 0    ghanshyam\n",
      "1        harsh\n",
      "2         yash\n",
      "Name: name, dtype: object\n"
     ]
    }
   ],
   "source": [
    "#Write a Pandas program to implement following operation\n",
    "#to convert the first column of a DataFrame as a Series\n",
    "\n",
    "# Developed By: Prakash Barad \n",
    "# Enrollement No: 216270307040\n",
    "\n",
    "d=pd.DataFrame({\"name\":[\"ghanshyam\",\"harsh\",\"yash\"],\"eno\":[72,73,74]})\n",
    "print(\"DataFrame:\\n\",d)\n",
    "print()\n",
    "s=pd.Series(d.name)\n",
    "print(\"Series:\\n\",s)"
   ]
  },
  {
   "cell_type": "code",
   "execution_count": 4,
   "id": "87d28f2f",
   "metadata": {
    "execution": {
     "iopub.execute_input": "2023-10-25T16:03:45.345678Z",
     "iopub.status.busy": "2023-10-25T16:03:45.345286Z",
     "iopub.status.idle": "2023-10-25T16:03:45.357722Z",
     "shell.execute_reply": "2023-10-25T16:03:45.356056Z"
    },
    "papermill": {
     "duration": 0.019635,
     "end_time": "2023-10-25T16:03:45.360361",
     "exception": false,
     "start_time": "2023-10-25T16:03:45.340726",
     "status": "completed"
    },
    "tags": []
   },
   "outputs": [
    {
     "name": "stdout",
     "output_type": "stream",
     "text": [
      "a    10.0\n",
      "b    40.0\n",
      "c    20.0\n",
      "d    30.0\n",
      "e    40.0\n",
      "f    50.0\n",
      "g     2.0\n",
      "h     NaN\n",
      "dtype: float64\n",
      "Mean: 27.428571428571427\n",
      "Std: 17.50102037841549\n"
     ]
    }
   ],
   "source": [
    "# Write a Pandas program to implement following operation\n",
    "# to create the mean and standard deviation of the data of a given Series\n",
    "\n",
    "# Developed By: Prakash Barad \n",
    "# Enrollement No: 216270307040\n",
    "\n",
    "s=pd.Series([10,40,20,30,40,50,2,np.nan],index=[\"a\",\"b\",\"c\",\"d\",\"e\",\"f\",\"g\",\"h\"])\n",
    "print(s)\n",
    "\n",
    "print(\"Mean:\",s.mean())\n",
    "print(\"Std:\",s.std())"
   ]
  },
  {
   "cell_type": "code",
   "execution_count": 5,
   "id": "568cf445",
   "metadata": {
    "execution": {
     "iopub.execute_input": "2023-10-25T16:03:45.369328Z",
     "iopub.status.busy": "2023-10-25T16:03:45.368908Z",
     "iopub.status.idle": "2023-10-25T16:03:45.383778Z",
     "shell.execute_reply": "2023-10-25T16:03:45.381902Z"
    },
    "papermill": {
     "duration": 0.023002,
     "end_time": "2023-10-25T16:03:45.386763",
     "exception": false,
     "start_time": "2023-10-25T16:03:45.363761",
     "status": "completed"
    },
    "tags": []
   },
   "outputs": [
    {
     "name": "stdout",
     "output_type": "stream",
     "text": [
      "Original:\n",
      " 0     2\n",
      "1     4\n",
      "2     3\n",
      "3     2\n",
      "4     5\n",
      "5     4\n",
      "6     9\n",
      "7     6\n",
      "8     7\n",
      "9     3\n",
      "10    0\n",
      "dtype: int64\n",
      "\n",
      "Sorted:\n",
      " 10    0\n",
      "0     2\n",
      "3     2\n",
      "2     3\n",
      "9     3\n",
      "1     4\n",
      "5     4\n",
      "4     5\n",
      "7     6\n",
      "8     7\n",
      "6     9\n",
      "dtype: int64\n"
     ]
    }
   ],
   "source": [
    "# write a Pandas program to implement following operation\n",
    "# to sort a given Series\n",
    "\n",
    "# Developed By: Prakash Barad \n",
    "# Enrollement No: 216270307040\n",
    "\n",
    "s=pd.Series([2,4,3,2,5,4,9,6,7,3,0])\n",
    "print(\"Original:\\n\",s)\n",
    "print()\n",
    "print(\"Sorted:\\n\",s.sort_values())\n"
   ]
  }
 ],
 "metadata": {
  "kernelspec": {
   "display_name": "Python 3",
   "language": "python",
   "name": "python3"
  },
  "language_info": {
   "codemirror_mode": {
    "name": "ipython",
    "version": 3
   },
   "file_extension": ".py",
   "mimetype": "text/x-python",
   "name": "python",
   "nbconvert_exporter": "python",
   "pygments_lexer": "ipython3",
   "version": "3.10.12"
  },
  "papermill": {
   "default_parameters": {},
   "duration": 4.927736,
   "end_time": "2023-10-25T16:03:45.912166",
   "environment_variables": {},
   "exception": null,
   "input_path": "__notebook__.ipynb",
   "output_path": "__notebook__.ipynb",
   "parameters": {},
   "start_time": "2023-10-25T16:03:40.984430",
   "version": "2.4.0"
  }
 },
 "nbformat": 4,
 "nbformat_minor": 5
}
